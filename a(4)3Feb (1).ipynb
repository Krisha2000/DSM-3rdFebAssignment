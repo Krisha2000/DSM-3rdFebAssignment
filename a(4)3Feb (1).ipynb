{
 "cells": [
  {
   "cell_type": "markdown",
   "id": "debeb576-4639-4341-875a-a21ae0b80ab8",
   "metadata": {},
   "source": [
    "# Quetion :- 1"
   ]
  },
  {
   "cell_type": "markdown",
   "id": "f162f2be-254d-4628-ab5f-032ce33776be",
   "metadata": {},
   "source": [
    "### The def keyword is used to create a function."
   ]
  },
  {
   "cell_type": "code",
   "execution_count": 4,
   "id": "54ace7ea-88c4-4e0f-94cf-12c5d4656621",
   "metadata": {},
   "outputs": [],
   "source": [
    "# oddnumbers=odn\n",
    "def odn(n):\n",
    "    l=[]\n",
    "    for i in range(0,n+1):\n",
    "        if i%2!=0:\n",
    "            l.append(i)\n",
    "    return l        \n",
    "            "
   ]
  },
  {
   "cell_type": "code",
   "execution_count": 5,
   "id": "fb659089-a1b0-4a5a-a217-12cd3c07e8fe",
   "metadata": {},
   "outputs": [
    {
     "data": {
      "text/plain": [
       "[1, 3, 5, 7, 9, 11, 13, 15, 17, 19, 21, 23, 25]"
      ]
     },
     "execution_count": 5,
     "metadata": {},
     "output_type": "execute_result"
    }
   ],
   "source": [
    "# odd numbers in 0 to 25\n",
    "odn(25)"
   ]
  },
  {
   "cell_type": "markdown",
   "id": "032f8dc3-9eb8-43cf-93dd-ffb765063b44",
   "metadata": {},
   "source": [
    "# Quetion :- 2"
   ]
  },
  {
   "cell_type": "markdown",
   "id": "df48a4c6-f592-4942-bcf6-29166667d0fa",
   "metadata": {},
   "source": [
    "## args :\n",
    "### Python has *args which allow us to pass the variable number of non keyword arguments to function."
   ]
  },
  {
   "cell_type": "code",
   "execution_count": 10,
   "id": "7364b4c4-90b6-425c-b886-759100cb20f1",
   "metadata": {},
   "outputs": [],
   "source": [
    "def adder(*args):\n",
    "    sum = 0\n",
    "    \n",
    "    for n in args:\n",
    "        sum = sum + n\n",
    "\n",
    "    print(\"Sum:\",sum)\n"
   ]
  },
  {
   "cell_type": "code",
   "execution_count": 11,
   "id": "b1c20ac6-94f4-4473-872f-57b6e1a72f56",
   "metadata": {},
   "outputs": [
    {
     "name": "stdout",
     "output_type": "stream",
     "text": [
      "Sum: 45\n"
     ]
    }
   ],
   "source": [
    "adder(1,2,3,4,5,6,7,8,9)"
   ]
  },
  {
   "cell_type": "markdown",
   "id": "54ebb633-2ace-4e30-a409-a56ea5955328",
   "metadata": {},
   "source": [
    "## kwargs:"
   ]
  },
  {
   "cell_type": "markdown",
   "id": "3897c0ce-7a66-48c5-bf7d-d558ee2f676f",
   "metadata": {},
   "source": [
    "## **kwargs allows us to pass the variable length of keyword arguments to the function."
   ]
  },
  {
   "cell_type": "code",
   "execution_count": 13,
   "id": "ec11f0a2-d8c7-43f4-97bc-50e4835bd51f",
   "metadata": {},
   "outputs": [],
   "source": [
    "def intro(**data):\n",
    "    print(\"\\nData type of argument:\",type(data))\n",
    "\n",
    "    for key, value in data.items():\n",
    "        print(\"{} is {}\".format(key,value))\n",
    "\n"
   ]
  },
  {
   "cell_type": "code",
   "execution_count": 14,
   "id": "91ec3cf5-5f28-4390-8b1d-076a414bde37",
   "metadata": {},
   "outputs": [
    {
     "name": "stdout",
     "output_type": "stream",
     "text": [
      "\n",
      "Data type of argument: <class 'dict'>\n",
      "Firstname is Sita\n",
      "Lastname is Sharma\n",
      "Age is 22\n",
      "Phone is 1234567890\n",
      "\n",
      "Data type of argument: <class 'dict'>\n",
      "Firstname is John\n",
      "Lastname is Wood\n",
      "Email is johnwood@nomail.com\n",
      "Country is Wakanda\n",
      "Age is 25\n",
      "Phone is 9876543210\n"
     ]
    }
   ],
   "source": [
    "intro(Firstname=\"Sita\", Lastname=\"Sharma\", Age=22, Phone=1234567890)\n",
    "intro(Firstname=\"John\", Lastname=\"Wood\", Email=\"johnwood@nomail.com\", Country=\"Wakanda\", Age=25, Phone=9876543210)"
   ]
  },
  {
   "cell_type": "markdown",
   "id": "9f6d8315-f095-430c-a1f7-15734d2c8d23",
   "metadata": {},
   "source": [
    "# Quetion :- 3"
   ]
  },
  {
   "cell_type": "markdown",
   "id": "70f111ca-12da-416c-a55c-2faff2f90fee",
   "metadata": {},
   "source": [
    "## interator :\n",
    "### An iterator is an object that contains a countable number of values. An iterator is an object that can be iterated upon, meaning that you can traverse through all the values."
   ]
  },
  {
   "cell_type": "code",
   "execution_count": 81,
   "id": "022ae65d-505a-4c13-af31-1c25a468efe0",
   "metadata": {},
   "outputs": [
    {
     "name": "stdout",
     "output_type": "stream",
     "text": [
      "2\n",
      "4\n",
      "6\n",
      "8\n",
      "10\n"
     ]
    }
   ],
   "source": [
    "lst = [2, 4, 6, 8, 10, 12,14, 16,18, 20]\n",
    "\n",
    "it = iter(lst)\n",
    "\n",
    "for i in range(5):\n",
    "    print(next(it))\n",
    "\n"
   ]
  },
  {
   "cell_type": "markdown",
   "id": "78ea35ba-19bd-4fd2-b92c-9c898b9f26bc",
   "metadata": {},
   "source": [
    "# Quetion :- 4"
   ]
  },
  {
   "cell_type": "markdown",
   "id": "828d2296-d283-40e3-aaa1-18a96c25e0a9",
   "metadata": {},
   "source": [
    "### Generator functions allow you to declare a function that behaves likes an iterator, allowing programmers to make an iterator in a fast, easy, and clean way."
   ]
  },
  {
   "cell_type": "markdown",
   "id": "54eee0b5-f3dd-4bfd-b6c4-49a623056bf2",
   "metadata": {},
   "source": [
    "### yield keyword is used to create a generator function. A type of function that is memory efficient and can be used like an iterator object"
   ]
  },
  {
   "cell_type": "code",
   "execution_count": 2,
   "id": "d547ec87-1a42-4307-bce0-8388ff890951",
   "metadata": {},
   "outputs": [
    {
     "name": "stdout",
     "output_type": "stream",
     "text": [
      "0\n",
      "1\n",
      "1\n",
      "2\n",
      "3\n",
      "5\n",
      "8\n",
      "13\n",
      "21\n",
      "34\n",
      "55\n",
      "89\n",
      "144\n",
      "233\n",
      "377\n"
     ]
    }
   ],
   "source": [
    "def tf(n):\n",
    "    a,b=0,1\n",
    "    for i in range(0,n):\n",
    "        yield a\n",
    "        a,b=b,a+b\n",
    "for i in tf(15):\n",
    "    print(i)        "
   ]
  },
  {
   "cell_type": "markdown",
   "id": "38a10f65-322e-4735-9e8a-b657734fd3b2",
   "metadata": {},
   "source": [
    "# Quetion :- 5"
   ]
  },
  {
   "cell_type": "code",
   "execution_count": 80,
   "id": "a32774a8-b8e5-42cb-b1bf-98eb1222d760",
   "metadata": {},
   "outputs": [
    {
     "name": "stdout",
     "output_type": "stream",
     "text": [
      "2\n",
      "3\n",
      "5\n",
      "7\n",
      "11\n",
      "13\n",
      "17\n",
      "19\n",
      "23\n",
      "29\n",
      "31\n",
      "37\n",
      "41\n",
      "43\n",
      "47\n",
      "53\n",
      "59\n",
      "61\n",
      "67\n",
      "71\n"
     ]
    }
   ],
   "source": [
    "def prime_numbers():\n",
    "    for num in range(2, 1000):\n",
    "        for i in range(2, num):\n",
    "            if (num % i) == 0:\n",
    "                break\n",
    "        else:\n",
    "            yield num\n",
    "\n",
    "prime_numbers_generator = prime_numbers()\n",
    "\n",
    "for i in range(20):\n",
    "    print(next(prime_numbers_generator))\n",
    "    "
   ]
  },
  {
   "cell_type": "code",
   "execution_count": null,
   "id": "03d210a8-d23b-4093-a9ca-9cafc58b6410",
   "metadata": {},
   "outputs": [],
   "source": []
  }
 ],
 "metadata": {
  "kernelspec": {
   "display_name": "Python 3 (ipykernel)",
   "language": "python",
   "name": "python3"
  },
  "language_info": {
   "codemirror_mode": {
    "name": "ipython",
    "version": 3
   },
   "file_extension": ".py",
   "mimetype": "text/x-python",
   "name": "python",
   "nbconvert_exporter": "python",
   "pygments_lexer": "ipython3",
   "version": "3.10.8"
  }
 },
 "nbformat": 4,
 "nbformat_minor": 5
}
